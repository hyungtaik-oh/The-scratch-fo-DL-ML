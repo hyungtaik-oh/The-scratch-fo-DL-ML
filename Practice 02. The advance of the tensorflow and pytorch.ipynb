{
 "cells": [
  {
   "cell_type": "markdown",
   "id": "3ff74942",
   "metadata": {
    "id": "3ff74942"
   },
   "source": [
    "# 01. Load packages"
   ]
  },
  {
   "cell_type": "code",
   "execution_count": null,
   "id": "96432aab",
   "metadata": {
    "id": "96432aab",
    "outputId": "0a57e184-3760-45de-f0a4-12ff2a0899e0"
   },
   "outputs": [
    {
     "name": "stderr",
     "output_type": "stream",
     "text": [
      "2022-08-04 02:45:19.013473: I tensorflow/stream_executor/cuda/cuda_gpu_executor.cc:975] successful NUMA node read from SysFS had negative value (-1), but there must be at least one NUMA node, so returning NUMA node zero\n",
      "2022-08-04 02:45:19.019935: I tensorflow/stream_executor/cuda/cuda_gpu_executor.cc:975] successful NUMA node read from SysFS had negative value (-1), but there must be at least one NUMA node, so returning NUMA node zero\n",
      "2022-08-04 02:45:19.020597: I tensorflow/stream_executor/cuda/cuda_gpu_executor.cc:975] successful NUMA node read from SysFS had negative value (-1), but there must be at least one NUMA node, so returning NUMA node zero\n"
     ]
    }
   ],
   "source": [
    "import torch \n",
    "import tensorflow as tf\n",
    "from tqdm import tqdm\n",
    "\n",
    "gpus = tf.config.list_physical_devices('GPU')\n",
    "tf.config.experimental.set_memory_growth(gpus[0],True)\n",
    "\n",
    "device = torch.device('cuda:0')\n",
    "\n",
    " \n"
   ]
  },
  {
   "cell_type": "markdown",
   "id": "1c92f257",
   "metadata": {
    "id": "1c92f257"
   },
   "source": [
    "#### for multi GPU environment,"
   ]
  },
  {
   "cell_type": "code",
   "execution_count": null,
   "id": "9dbdc73c",
   "metadata": {
    "id": "9dbdc73c"
   },
   "outputs": [],
   "source": [
    "import torch \n",
    "import tensorflow as tf\n",
    "from tqdm import tqdm\n",
    "\n",
    "gpus = tf.config.list_physical_devices('GPU')\n",
    "tf.config.experimental.set_visible_devices(gpus[3],'GPU')\n",
    "tf.config.experimental.set_memory_growth(gpus[3],True)\n",
    "\n",
    "device = torch.device('cuda:3')"
   ]
  },
  {
   "cell_type": "markdown",
   "id": "c76b7bc3",
   "metadata": {
    "id": "c76b7bc3"
   },
   "source": [
    "# 02. Test simple add function "
   ]
  },
  {
   "cell_type": "code",
   "execution_count": null,
   "id": "c21c9739",
   "metadata": {
    "id": "c21c9739"
   },
   "outputs": [],
   "source": [
    "def add(a,b):\n",
    "    return a+b\n",
    "\n",
    "@tf.function\n",
    "def tf_add(a,b):\n",
    "    return a+b\n",
    "\n",
    "def torch_add(a,b):\n",
    "    return torch.tensor(a+b, device = device)"
   ]
  },
  {
   "cell_type": "code",
   "execution_count": null,
   "id": "938fefce",
   "metadata": {
    "id": "938fefce",
    "outputId": "080162fc-8621-4116-f7bb-ce6660a28058"
   },
   "outputs": [
    {
     "name": "stderr",
     "output_type": "stream",
     "text": [
      "2022-08-04 02:45:19.058308: I tensorflow/core/platform/cpu_feature_guard.cc:193] This TensorFlow binary is optimized with oneAPI Deep Neural Network Library (oneDNN) to use the following CPU instructions in performance-critical operations:  AVX2 FMA\n",
      "To enable them in other operations, rebuild TensorFlow with the appropriate compiler flags.\n",
      "2022-08-04 02:45:19.058972: I tensorflow/stream_executor/cuda/cuda_gpu_executor.cc:975] successful NUMA node read from SysFS had negative value (-1), but there must be at least one NUMA node, so returning NUMA node zero\n",
      "2022-08-04 02:45:19.059668: I tensorflow/stream_executor/cuda/cuda_gpu_executor.cc:975] successful NUMA node read from SysFS had negative value (-1), but there must be at least one NUMA node, so returning NUMA node zero\n",
      "2022-08-04 02:45:19.060305: I tensorflow/stream_executor/cuda/cuda_gpu_executor.cc:975] successful NUMA node read from SysFS had negative value (-1), but there must be at least one NUMA node, so returning NUMA node zero\n",
      "2022-08-04 02:45:21.586756: I tensorflow/stream_executor/cuda/cuda_gpu_executor.cc:975] successful NUMA node read from SysFS had negative value (-1), but there must be at least one NUMA node, so returning NUMA node zero\n",
      "2022-08-04 02:45:21.587396: I tensorflow/stream_executor/cuda/cuda_gpu_executor.cc:975] successful NUMA node read from SysFS had negative value (-1), but there must be at least one NUMA node, so returning NUMA node zero\n",
      "2022-08-04 02:45:21.588001: I tensorflow/stream_executor/cuda/cuda_gpu_executor.cc:975] successful NUMA node read from SysFS had negative value (-1), but there must be at least one NUMA node, so returning NUMA node zero\n",
      "2022-08-04 02:45:21.588584: I tensorflow/core/common_runtime/gpu/gpu_device.cc:1532] Created device /job:localhost/replica:0/task:0/device:GPU:0 with 20872 MB memory:  -> device: 0, name: NVIDIA GeForce RTX 3090, pci bus id: 0000:06:00.0, compute capability: 8.6\n"
     ]
    }
   ],
   "source": [
    "tf_value = tf_add(1,2)"
   ]
  },
  {
   "cell_type": "code",
   "execution_count": null,
   "id": "5728ff1c",
   "metadata": {
    "id": "5728ff1c"
   },
   "outputs": [],
   "source": [
    "torch_value = torch_add(1,2)"
   ]
  },
  {
   "cell_type": "code",
   "execution_count": null,
   "id": "544b3c89",
   "metadata": {
    "id": "544b3c89",
    "outputId": "7c05c50d-54cf-4f7f-9f50-59dce7077fd7"
   },
   "outputs": [
    {
     "data": {
      "text/plain": [
       "(<tf.Tensor: shape=(), dtype=int32, numpy=3>, tensor(3, device='cuda:0'))"
      ]
     },
     "execution_count": 6,
     "metadata": {},
     "output_type": "execute_result"
    }
   ],
   "source": [
    "tf_value, torch_value"
   ]
  },
  {
   "cell_type": "markdown",
   "id": "973cde77",
   "metadata": {
    "id": "973cde77"
   },
   "source": [
    "# 03. Load datasets"
   ]
  },
  {
   "cell_type": "code",
   "execution_count": null,
   "id": "b87a4825",
   "metadata": {
    "id": "b87a4825"
   },
   "outputs": [],
   "source": [
    "from sklearn.datasets import fetch_california_housing\n",
    "import pandas as pds\n",
    "import numpy as np\n",
    "\n",
    "from matplotlib import pyplot as plt"
   ]
  },
  {
   "cell_type": "code",
   "execution_count": null,
   "id": "e323436b",
   "metadata": {
    "id": "e323436b"
   },
   "outputs": [],
   "source": [
    "load_datasets = fetch_california_housing(as_frame = True)\n",
    "\n",
    "X,Y = load_datasets['data'], load_datasets['target']\n"
   ]
  },
  {
   "cell_type": "code",
   "execution_count": null,
   "id": "d233ab97",
   "metadata": {
    "id": "d233ab97",
    "outputId": "26610553-b5c8-468a-9782-ee091ee24482"
   },
   "outputs": [
    {
     "data": {
      "text/html": [
       "<div>\n",
       "<style scoped>\n",
       "    .dataframe tbody tr th:only-of-type {\n",
       "        vertical-align: middle;\n",
       "    }\n",
       "\n",
       "    .dataframe tbody tr th {\n",
       "        vertical-align: top;\n",
       "    }\n",
       "\n",
       "    .dataframe thead th {\n",
       "        text-align: right;\n",
       "    }\n",
       "</style>\n",
       "<table border=\"1\" class=\"dataframe\">\n",
       "  <thead>\n",
       "    <tr style=\"text-align: right;\">\n",
       "      <th></th>\n",
       "      <th>MedInc</th>\n",
       "      <th>HouseAge</th>\n",
       "      <th>AveRooms</th>\n",
       "      <th>AveBedrms</th>\n",
       "      <th>Population</th>\n",
       "      <th>AveOccup</th>\n",
       "      <th>Latitude</th>\n",
       "      <th>Longitude</th>\n",
       "    </tr>\n",
       "  </thead>\n",
       "  <tbody>\n",
       "    <tr>\n",
       "      <th>0</th>\n",
       "      <td>8.3252</td>\n",
       "      <td>41.0</td>\n",
       "      <td>6.984127</td>\n",
       "      <td>1.023810</td>\n",
       "      <td>322.0</td>\n",
       "      <td>2.555556</td>\n",
       "      <td>37.88</td>\n",
       "      <td>-122.23</td>\n",
       "    </tr>\n",
       "    <tr>\n",
       "      <th>1</th>\n",
       "      <td>8.3014</td>\n",
       "      <td>21.0</td>\n",
       "      <td>6.238137</td>\n",
       "      <td>0.971880</td>\n",
       "      <td>2401.0</td>\n",
       "      <td>2.109842</td>\n",
       "      <td>37.86</td>\n",
       "      <td>-122.22</td>\n",
       "    </tr>\n",
       "    <tr>\n",
       "      <th>2</th>\n",
       "      <td>7.2574</td>\n",
       "      <td>52.0</td>\n",
       "      <td>8.288136</td>\n",
       "      <td>1.073446</td>\n",
       "      <td>496.0</td>\n",
       "      <td>2.802260</td>\n",
       "      <td>37.85</td>\n",
       "      <td>-122.24</td>\n",
       "    </tr>\n",
       "    <tr>\n",
       "      <th>3</th>\n",
       "      <td>5.6431</td>\n",
       "      <td>52.0</td>\n",
       "      <td>5.817352</td>\n",
       "      <td>1.073059</td>\n",
       "      <td>558.0</td>\n",
       "      <td>2.547945</td>\n",
       "      <td>37.85</td>\n",
       "      <td>-122.25</td>\n",
       "    </tr>\n",
       "    <tr>\n",
       "      <th>4</th>\n",
       "      <td>3.8462</td>\n",
       "      <td>52.0</td>\n",
       "      <td>6.281853</td>\n",
       "      <td>1.081081</td>\n",
       "      <td>565.0</td>\n",
       "      <td>2.181467</td>\n",
       "      <td>37.85</td>\n",
       "      <td>-122.25</td>\n",
       "    </tr>\n",
       "    <tr>\n",
       "      <th>...</th>\n",
       "      <td>...</td>\n",
       "      <td>...</td>\n",
       "      <td>...</td>\n",
       "      <td>...</td>\n",
       "      <td>...</td>\n",
       "      <td>...</td>\n",
       "      <td>...</td>\n",
       "      <td>...</td>\n",
       "    </tr>\n",
       "    <tr>\n",
       "      <th>20635</th>\n",
       "      <td>1.5603</td>\n",
       "      <td>25.0</td>\n",
       "      <td>5.045455</td>\n",
       "      <td>1.133333</td>\n",
       "      <td>845.0</td>\n",
       "      <td>2.560606</td>\n",
       "      <td>39.48</td>\n",
       "      <td>-121.09</td>\n",
       "    </tr>\n",
       "    <tr>\n",
       "      <th>20636</th>\n",
       "      <td>2.5568</td>\n",
       "      <td>18.0</td>\n",
       "      <td>6.114035</td>\n",
       "      <td>1.315789</td>\n",
       "      <td>356.0</td>\n",
       "      <td>3.122807</td>\n",
       "      <td>39.49</td>\n",
       "      <td>-121.21</td>\n",
       "    </tr>\n",
       "    <tr>\n",
       "      <th>20637</th>\n",
       "      <td>1.7000</td>\n",
       "      <td>17.0</td>\n",
       "      <td>5.205543</td>\n",
       "      <td>1.120092</td>\n",
       "      <td>1007.0</td>\n",
       "      <td>2.325635</td>\n",
       "      <td>39.43</td>\n",
       "      <td>-121.22</td>\n",
       "    </tr>\n",
       "    <tr>\n",
       "      <th>20638</th>\n",
       "      <td>1.8672</td>\n",
       "      <td>18.0</td>\n",
       "      <td>5.329513</td>\n",
       "      <td>1.171920</td>\n",
       "      <td>741.0</td>\n",
       "      <td>2.123209</td>\n",
       "      <td>39.43</td>\n",
       "      <td>-121.32</td>\n",
       "    </tr>\n",
       "    <tr>\n",
       "      <th>20639</th>\n",
       "      <td>2.3886</td>\n",
       "      <td>16.0</td>\n",
       "      <td>5.254717</td>\n",
       "      <td>1.162264</td>\n",
       "      <td>1387.0</td>\n",
       "      <td>2.616981</td>\n",
       "      <td>39.37</td>\n",
       "      <td>-121.24</td>\n",
       "    </tr>\n",
       "  </tbody>\n",
       "</table>\n",
       "<p>20640 rows × 8 columns</p>\n",
       "</div>"
      ],
      "text/plain": [
       "       MedInc  HouseAge  AveRooms  AveBedrms  Population  AveOccup  Latitude  \\\n",
       "0      8.3252      41.0  6.984127   1.023810       322.0  2.555556     37.88   \n",
       "1      8.3014      21.0  6.238137   0.971880      2401.0  2.109842     37.86   \n",
       "2      7.2574      52.0  8.288136   1.073446       496.0  2.802260     37.85   \n",
       "3      5.6431      52.0  5.817352   1.073059       558.0  2.547945     37.85   \n",
       "4      3.8462      52.0  6.281853   1.081081       565.0  2.181467     37.85   \n",
       "...       ...       ...       ...        ...         ...       ...       ...   \n",
       "20635  1.5603      25.0  5.045455   1.133333       845.0  2.560606     39.48   \n",
       "20636  2.5568      18.0  6.114035   1.315789       356.0  3.122807     39.49   \n",
       "20637  1.7000      17.0  5.205543   1.120092      1007.0  2.325635     39.43   \n",
       "20638  1.8672      18.0  5.329513   1.171920       741.0  2.123209     39.43   \n",
       "20639  2.3886      16.0  5.254717   1.162264      1387.0  2.616981     39.37   \n",
       "\n",
       "       Longitude  \n",
       "0        -122.23  \n",
       "1        -122.22  \n",
       "2        -122.24  \n",
       "3        -122.25  \n",
       "4        -122.25  \n",
       "...          ...  \n",
       "20635    -121.09  \n",
       "20636    -121.21  \n",
       "20637    -121.22  \n",
       "20638    -121.32  \n",
       "20639    -121.24  \n",
       "\n",
       "[20640 rows x 8 columns]"
      ]
     },
     "execution_count": 9,
     "metadata": {},
     "output_type": "execute_result"
    }
   ],
   "source": [
    "X"
   ]
  },
  {
   "cell_type": "code",
   "execution_count": null,
   "id": "5b8314f0",
   "metadata": {
    "id": "5b8314f0",
    "outputId": "24808b2d-2174-44ed-beb9-504311b12977"
   },
   "outputs": [
    {
     "data": {
      "text/plain": [
       "0        4.526\n",
       "1        3.585\n",
       "2        3.521\n",
       "3        3.413\n",
       "4        3.422\n",
       "         ...  \n",
       "20635    0.781\n",
       "20636    0.771\n",
       "20637    0.923\n",
       "20638    0.847\n",
       "20639    0.894\n",
       "Name: MedHouseVal, Length: 20640, dtype: float64"
      ]
     },
     "execution_count": 10,
     "metadata": {},
     "output_type": "execute_result"
    }
   ],
   "source": [
    "Y"
   ]
  },
  {
   "cell_type": "code",
   "execution_count": null,
   "id": "98de2827",
   "metadata": {
    "id": "98de2827",
    "outputId": "640643db-41ec-4fc7-b190-9831ad368229"
   },
   "outputs": [
    {
     "data": {
      "text/plain": [
       "MedInc        0.688075\n",
       "HouseAge      0.105623\n",
       "AveRooms      0.151948\n",
       "AveBedrms    -0.046701\n",
       "Population   -0.024650\n",
       "AveOccup     -0.023737\n",
       "Latitude     -0.144160\n",
       "Longitude    -0.045967\n",
       "dtype: float64"
      ]
     },
     "execution_count": 11,
     "metadata": {},
     "output_type": "execute_result"
    }
   ],
   "source": [
    "X.corrwith(Y)"
   ]
  },
  {
   "cell_type": "markdown",
   "id": "fbcc95ae",
   "metadata": {
    "id": "fbcc95ae"
   },
   "source": [
    "# 04. Manual update to variable with gradient descent"
   ]
  },
  {
   "cell_type": "markdown",
   "id": "bf72fa8a",
   "metadata": {
    "id": "bf72fa8a"
   },
   "source": [
    "## 04-1. Update tensorflow variable "
   ]
  },
  {
   "cell_type": "code",
   "execution_count": null,
   "id": "309d0ea8",
   "metadata": {
    "id": "309d0ea8"
   },
   "outputs": [],
   "source": [
    "learning_ratio = 3e-6"
   ]
  },
  {
   "cell_type": "code",
   "execution_count": null,
   "id": "86eb2ab7",
   "metadata": {
    "id": "86eb2ab7"
   },
   "outputs": [],
   "source": [
    "tf_initializer = tf.random_normal_initializer()\n",
    "tf_weight = tf.Variable(tf_initializer((X.shape[1],1)))\n",
    "tf_bias = tf.Variable(tf_initializer((1,)))"
   ]
  },
  {
   "cell_type": "code",
   "execution_count": null,
   "id": "10af1698",
   "metadata": {
    "id": "10af1698",
    "outputId": "25ef8380-26f6-4848-91c7-9daf385e0fed"
   },
   "outputs": [
    {
     "data": {
      "text/plain": [
       "(<tf.Variable 'Variable:0' shape=(8, 1) dtype=float32, numpy=\n",
       " array([[ 0.04258792],\n",
       "        [-0.01811746],\n",
       "        [ 0.00497182],\n",
       "        [ 0.01154355],\n",
       "        [ 0.06762842],\n",
       "        [-0.00118326],\n",
       "        [-0.01981443],\n",
       "        [ 0.07253034]], dtype=float32)>,\n",
       " <tf.Variable 'Variable:0' shape=(1,) dtype=float32, numpy=array([0.03446423], dtype=float32)>)"
      ]
     },
     "execution_count": 49,
     "metadata": {},
     "output_type": "execute_result"
    }
   ],
   "source": [
    "tf_weight, tf_bias"
   ]
  },
  {
   "cell_type": "code",
   "execution_count": null,
   "id": "8922591e",
   "metadata": {
    "id": "8922591e"
   },
   "outputs": [],
   "source": [
    "@tf.function\n",
    "def tf_linear_combination(x,y,w,b):\n",
    "    with tf.GradientTape() as t:\n",
    "        y_hat = tf.matmul(x ,w) + b\n",
    "        mse_loss = tf.reduce_mean(tf.square(y - y_hat))\n",
    "    dw, db = t.gradient(mse_loss, [w,b])\n",
    "    w.assign_sub(learning_ratio * dw)\n",
    "    b.assign_sub(learning_ratio * db)\n",
    "    return mse_loss"
   ]
  },
  {
   "cell_type": "code",
   "execution_count": null,
   "id": "26de0a5f",
   "metadata": {
    "id": "26de0a5f",
    "outputId": "10b4e49c-8992-418c-914f-18fdda3a9cc0"
   },
   "outputs": [
    {
     "name": "stderr",
     "output_type": "stream",
     "text": [
      "100%|██████████| 20/20 [00:00<00:00, 234.57it/s]\n"
     ]
    }
   ],
   "source": [
    "logger = dict(\n",
    "    loss = [],\n",
    "    w = [],\n",
    "    b = []\n",
    ")\n",
    "for n in tqdm(tf.range(20)):\n",
    "    loss = tf_linear_combination( X.values.astype(np.float32), Y.values.reshape(-1,1).astype(np.float32), tf_weight, tf_bias)\n",
    "    logger['loss'].append(loss.numpy())\n",
    "    logger['w'].append(tf_weight.numpy())\n",
    "    logger['b'].append(tf_bias.numpy())"
   ]
  },
  {
   "cell_type": "code",
   "execution_count": null,
   "id": "073e1de7",
   "metadata": {
    "id": "073e1de7",
    "outputId": "6f19852b-5afe-46a5-f8ae-2c608d46b5f6"
   },
   "outputs": [
    {
     "data": {
      "text/plain": [
       "<matplotlib.legend.Legend at 0x7f4809509a90>"
      ]
     },
     "execution_count": 52,
     "metadata": {},
     "output_type": "execute_result"
    },
    {
     "data": {
      "image/png": "[encoded data removed]",
      "text/plain": [
       "<Figure size 1080x720 with 2 Axes>"
      ]
     },
     "metadata": {
      "needs_background": "light"
     },
     "output_type": "display_data"
    }
   ],
   "source": [
    "fig, ax = plt.subplots(2,1,figsize = (15,10))\n",
    "ax[0].plot(logger['loss'])\n",
    "ax[0].set_yscale('log')\n",
    "ax[1].plot(np.concatenate(logger['w'],-1).transpose(), alpha = .7)\n",
    "ax[1].plot(np.concatenate(logger['b'],-1).transpose(), alpha = .7)\n",
    "ax[1].legend(range(9))\n",
    "# tax = ax[0].twinx()\n",
    "# tax.plot(*logger['w'].transpose())"
   ]
  },
  {
   "cell_type": "code",
   "execution_count": null,
   "id": "8852ff8a",
   "metadata": {
    "id": "8852ff8a",
    "outputId": "e1378a07-2271-479f-dafc-5a1e8a9ccb47"
   },
   "outputs": [
    {
     "data": {
      "text/plain": [
       "MedInc        0.688075\n",
       "HouseAge      0.105623\n",
       "AveRooms      0.151948\n",
       "AveBedrms    -0.046701\n",
       "Population   -0.024650\n",
       "AveOccup     -0.023737\n",
       "Latitude     -0.144160\n",
       "Longitude    -0.045967\n",
       "dtype: float64"
      ]
     },
     "execution_count": 18,
     "metadata": {},
     "output_type": "execute_result"
    }
   ],
   "source": [
    "X.corrwith(Y)"
   ]
  },
  {
   "cell_type": "markdown",
   "id": "79671f1b",
   "metadata": {
    "id": "79671f1b"
   },
   "source": [
    "## 04-2. Update pytorch variable "
   ]
  },
  {
   "cell_type": "code",
   "execution_count": null,
   "id": "b2ae1d1d",
   "metadata": {
    "id": "b2ae1d1d"
   },
   "outputs": [],
   "source": [
    "learning_ratio = 3.0e-7"
   ]
  },
  {
   "cell_type": "code",
   "execution_count": null,
   "id": "b5882b37",
   "metadata": {
    "id": "b5882b37"
   },
   "outputs": [],
   "source": [
    "torch_weight = torch.randn((X.shape[1],1), device = device, requires_grad = True)\n",
    "torch_bias = torch.randn((1,), device = device, requires_grad = True)"
   ]
  },
  {
   "cell_type": "code",
   "execution_count": null,
   "id": "6eb4d0dc",
   "metadata": {
    "id": "6eb4d0dc"
   },
   "outputs": [],
   "source": [
    "def torch_linear_combination(x,y,w,b):\n",
    "    y_hat = x @ w + b\n",
    "    mse_loss = ((y - y_hat) ** 2).mean()\n",
    "    \n",
    "    mse_loss.backward()\n",
    "    \n",
    "    with torch.no_grad():\n",
    "        w = w - learning_ratio * w.grad\n",
    "        b = b - learning_ratio * b.grad\n",
    "    w.requires_grad = True\n",
    "    b.requires_grad = True\n",
    "    \n",
    "    return mse_loss, w, b"
   ]
  },
  {
   "cell_type": "code",
   "execution_count": null,
   "id": "134666b4",
   "metadata": {
    "id": "134666b4"
   },
   "outputs": [],
   "source": [
    "torch_X = torch.tensor(X.values, dtype = torch.float32, device = device)\n",
    "torch_Y = torch.tensor(Y.values, dtype = torch.float32, device = device)"
   ]
  },
  {
   "cell_type": "code",
   "execution_count": null,
   "id": "af6cf99b",
   "metadata": {
    "id": "af6cf99b",
    "outputId": "df1f26bc-75e5-475f-ebcf-3f606a9a9286"
   },
   "outputs": [
    {
     "name": "stderr",
     "output_type": "stream",
     "text": [
      "100%|██████████| 1000/1000 [00:34<00:00, 28.95it/s]\n"
     ]
    }
   ],
   "source": [
    "logger = dict(\n",
    "    loss = [],\n",
    "    w = [],\n",
    "    b = []\n",
    ")\n",
    "for n in tqdm(range(1000)):\n",
    "    loss, torch_weight, torch_bias = torch_linear_combination( torch_X, torch_Y, torch_weight, torch_bias)\n",
    "    logger['loss'].append(loss.detach().cpu().numpy())\n",
    "    logger['w'].append(torch_weight.detach().cpu().numpy())\n",
    "    logger['b'].append(torch_bias.detach().cpu().numpy())"
   ]
  },
  {
   "cell_type": "code",
   "execution_count": null,
   "id": "37ef0e5b",
   "metadata": {
    "id": "37ef0e5b",
    "outputId": "eca29a51-f680-4e84-8b5f-7f0f411ea1a0"
   },
   "outputs": [
    {
     "data": {
      "text/plain": [
       "<matplotlib.legend.Legend at 0x7f48305a9490>"
      ]
     },
     "execution_count": 24,
     "metadata": {},
     "output_type": "execute_result"
    },
    {
     "data": {
      "image/png": "[encoded data removed]",
      "text/plain": [
       "<Figure size 1080x720 with 2 Axes>"
      ]
     },
     "metadata": {
      "needs_background": "light"
     },
     "output_type": "display_data"
    }
   ],
   "source": [
    "fig, ax = plt.subplots(2,1,figsize = (15,10))\n",
    "ax[0].plot(logger['loss'])\n",
    "ax[0].set_yscale('log')\n",
    "ax[1].plot(np.concatenate(logger['w'],-1).transpose(), alpha = .7)\n",
    "ax[1].plot(np.concatenate(logger['b'],-1).transpose(), alpha = .7)\n",
    "ax[1].legend(range(9))\n",
    "# tax = ax[0].twinx()\n",
    "# tax.plot(*logger['w'].transpose())"
   ]
  },
  {
   "cell_type": "code",
   "execution_count": null,
   "id": "ae433b27",
   "metadata": {
    "id": "ae433b27",
    "outputId": "5e9d92d1-5056-4383-b070-b11240b9aeaa"
   },
   "outputs": [
    {
     "data": {
      "text/plain": [
       "MedInc        0.688075\n",
       "HouseAge      0.105623\n",
       "AveRooms      0.151948\n",
       "AveBedrms    -0.046701\n",
       "Population   -0.024650\n",
       "AveOccup     -0.023737\n",
       "Latitude     -0.144160\n",
       "Longitude    -0.045967\n",
       "dtype: float64"
      ]
     },
     "execution_count": 25,
     "metadata": {},
     "output_type": "execute_result"
    }
   ],
   "source": [
    "X.corrwith(Y)"
   ]
  },
  {
   "cell_type": "markdown",
   "id": "ac2056eb",
   "metadata": {
    "id": "ac2056eb"
   },
   "source": [
    "# 05. Manual update to the linear layer with gradient descent"
   ]
  },
  {
   "cell_type": "markdown",
   "id": "17c1acad",
   "metadata": {
    "id": "17c1acad"
   },
   "source": [
    "## 05-1. Update tensorflow layer"
   ]
  },
  {
   "cell_type": "code",
   "execution_count": null,
   "id": "b91246f3",
   "metadata": {
    "id": "b91246f3"
   },
   "outputs": [],
   "source": [
    "class tf_linear(tf.keras.layers.Layer):\n",
    "    def __init__(self, input_dim, output_dim, bias = True, initializer = None):\n",
    "        super().__init__()\n",
    "        \n",
    "        if initializer == None:\n",
    "            tf_initializer = tf.random_normal_initializer()\n",
    "        else: \n",
    "            tf_initializer = initializer\n",
    "        \n",
    "        self.w = tf.Variable(tf_initializer((input_dim,output_dim)))\n",
    "        \n",
    "        self.bias = bias\n",
    "        if self.bias:\n",
    "            self.b = tf.Variable(tf_initializer((output_dim,)))\n",
    "        \n",
    "        \n",
    "    @tf.function\n",
    "    def __call__(self, x):\n",
    "        if self.bias:\n",
    "            return x @ self.w + self.b\n",
    "        else:\n",
    "            return x @ self.w\n",
    "\n",
    "tf_relu = tf.keras.activations.relu\n",
    "\n",
    "@tf.function\n",
    "def tf_layers(x,y,l1,l2):\n",
    "    with tf.GradientTape() as t:\n",
    "        h1 = l1(x)\n",
    "        a1 = tf_relu(h1)\n",
    "        y_hat = l2(a1)\n",
    "        mse_loss = tf.reduce_mean(tf.square(y - y_hat))\n",
    "    dw1, db1, dw2, db2 = t.gradient(mse_loss, [l1.w, l1.b, l2.w, l2.b])\n",
    "    l1.w.assign_sub(learning_ratio * dw1)\n",
    "    l1.b.assign_sub(learning_ratio * db1)\n",
    "    l2.w.assign_sub(learning_ratio * dw2)\n",
    "    l2.b.assign_sub(learning_ratio * db2)\n",
    "    return mse_loss"
   ]
  },
  {
   "cell_type": "code",
   "execution_count": null,
   "id": "c1a9bcaa",
   "metadata": {
    "id": "c1a9bcaa"
   },
   "outputs": [],
   "source": [
    "tf_X, tf_Y = X.values.astype(np.float32), Y.values.reshape(-1,1).astype(np.float32)"
   ]
  },
  {
   "cell_type": "code",
   "execution_count": null,
   "id": "a44b981f",
   "metadata": {
    "id": "a44b981f"
   },
   "outputs": [],
   "source": [
    "layer_01 = tf_linear(tf_X.shape[1],3)\n",
    "layer_02 = tf_linear(3,1)"
   ]
  },
  {
   "cell_type": "code",
   "execution_count": null,
   "id": "f97ba95e",
   "metadata": {
    "id": "f97ba95e",
    "outputId": "53e9773e-0aec-4463-e102-9bc5831939b3"
   },
   "outputs": [
    {
     "name": "stderr",
     "output_type": "stream",
     "text": [
      "  0%|          | 0/1000 [00:00<?, ?it/s]2022-08-04 02:45:59.318702: I tensorflow/stream_executor/cuda/cuda_blas.cc:1786] TensorFloat-32 will be used for the matrix multiplication. This will only be logged once.\n",
      "100%|██████████| 1000/1000 [00:01<00:00, 640.34it/s]\n"
     ]
    }
   ],
   "source": [
    "logger = dict(\n",
    "    loss = [],\n",
    "    w1 = [],\n",
    "    b1 = [],\n",
    "    w2 = [],\n",
    "    b2 = []\n",
    ")\n",
    "for n in tqdm(tf.range(1000)):\n",
    "    loss = tf_layers( tf_X, tf_Y, layer_01, layer_02 )\n",
    "    logger['loss'].append(loss.numpy())\n",
    "    logger['w1'].append(layer_01.w.numpy())\n",
    "    logger['b1'].append(layer_01.b.numpy())\n",
    "    logger['w2'].append(layer_02.w.numpy())\n",
    "    logger['b2'].append(layer_02.b.numpy())"
   ]
  },
  {
   "cell_type": "code",
   "execution_count": null,
   "id": "a27c9c23",
   "metadata": {
    "id": "a27c9c23"
   },
   "outputs": [],
   "source": [
    "stack_w1 = np.stack(logger['w1'],0)\n",
    "stack_b1 = np.stack(logger['b1'],0)"
   ]
  },
  {
   "cell_type": "code",
   "execution_count": null,
   "id": "07d7d8fd",
   "metadata": {
    "id": "07d7d8fd",
    "outputId": "d24e4b4c-326c-44cf-f2ac-63fa5519bad0"
   },
   "outputs": [
    {
     "data": {
      "image/png": "[encoded data removed]",
      "text/plain": [
       "<Figure size 1080x864 with 5 Axes>"
      ]
     },
     "metadata": {
      "needs_background": "light"
     },
     "output_type": "display_data"
    }
   ],
   "source": [
    "fig, axs = plt.subplots(ncols=3, nrows=3, figsize = (15,12))\n",
    "\n",
    "gs = axs[0, 0].get_gridspec()\n",
    "for ax in axs[0, :]:\n",
    "    ax.remove()\n",
    "axbig = fig.add_subplot(gs[0, :])\n",
    "axbig.plot(logger['loss'])\n",
    "# axbig.set_yscale('log')\n",
    "\n",
    "for n in range(3):\n",
    "    axs[1][n].plot(stack_w1[:,:,n], alpha = .7)\n",
    "    axs[1][n].plot(stack_b1[:,n], alpha = .7)\n",
    "    axs[1][n].legend(range(9))\n",
    "\n",
    "\n",
    "gs = axs[0, 0].get_gridspec()\n",
    "for ax in axs[2, :]:\n",
    "    ax.remove()\n",
    "axbig = fig.add_subplot(gs[2, :])\n",
    "axbig.plot(np.concatenate(logger['w2'],-1).transpose(), alpha = .7)\n",
    "axbig.plot(np.concatenate(logger['b2'],-1).transpose(), alpha = .7)\n",
    "axbig.legend(range(9))\n",
    "\n",
    "\n",
    "\n",
    "fig.tight_layout()\n",
    "\n",
    "plt.show()\n"
   ]
  },
  {
   "cell_type": "markdown",
   "id": "77c0ab48",
   "metadata": {
    "id": "77c0ab48"
   },
   "source": [
    "## 05-2. Update torch module"
   ]
  },
  {
   "cell_type": "code",
   "execution_count": null,
   "id": "4ae210c2",
   "metadata": {
    "id": "4ae210c2"
   },
   "outputs": [],
   "source": [
    "class torch_linear(torch.nn.Module):\n",
    "    def __init__(self, input_dim, output_dim, bias = True):\n",
    "        super().__init__()\n",
    "        self.w = torch.nn.Parameter(\n",
    "            torch.nn.init.trunc_normal_(torch.empty(input_dim, output_dim))\n",
    "        )\n",
    "        \n",
    "        self.bias = bias\n",
    "        if self.bias:\n",
    "            self.b = torch.nn.Parameter(\n",
    "                torch.nn.init.trunc_normal_(torch.empty(output_dim,))\n",
    "            )\n",
    "        \n",
    "    def forward(self, x):\n",
    "        if self.bias:\n",
    "            return x @ self.w + self.b\n",
    "        else:\n",
    "            return x @ self.w\n",
    "\n",
    "def torch_linear_combination(x,y,l1,l2):\n",
    "    h1 = l1(x)\n",
    "    a1 = torch_relu(h1)\n",
    "    o = l2(a1)\n",
    "    \n",
    "    mse_loss = ((y - o)**2).mean()\n",
    "    \n",
    "    mse_loss.backward()\n",
    "    \n",
    "    with torch.no_grad():\n",
    "        for w in list(l1.parameters()) + list(l2.parameters()):\n",
    "            w -= learning_ratio * w.grad\n",
    "            \n",
    "    return mse_loss\n",
    "\n",
    "torch_relu = torch.nn.ReLU()"
   ]
  },
  {
   "cell_type": "code",
   "execution_count": null,
   "id": "91d0471d",
   "metadata": {
    "id": "91d0471d"
   },
   "outputs": [],
   "source": [
    "torch_X = torch.tensor(X.values, dtype = torch.float32, device = device)\n",
    "torch_Y = torch.tensor(Y.values, dtype = torch.float32, device = device)\n",
    "\n",
    "learning_ratio = 3.0e-7\n",
    "\n",
    "torch_linear_01 = torch_linear(torch_X.shape[1], 3).to(device)\n",
    "torch_linear_02 = torch_linear(3, 1).to(device)\n"
   ]
  },
  {
   "cell_type": "code",
   "execution_count": null,
   "id": "79f533ca",
   "metadata": {
    "id": "79f533ca",
    "outputId": "d65bcee8-6cd5-4092-e63e-dc7efc90525d"
   },
   "outputs": [
    {
     "name": "stderr",
     "output_type": "stream",
     "text": [
      "100%|██████████| 1000/1000 [00:34<00:00, 28.86it/s]\n"
     ]
    }
   ],
   "source": [
    "logger = dict(\n",
    "    loss = [],\n",
    "    w1 = [],\n",
    "    b1 = [],\n",
    "    w2 = [],\n",
    "    b2 = []\n",
    ")\n",
    "for n in tqdm(range(1000)):\n",
    "    loss = torch_linear_combination(torch_X,torch_Y, torch_linear_01, torch_linear_02)\n",
    "    logger['loss'].append(loss.detach().cpu().numpy())\n",
    "    logger['w1'].append(torch_linear_01.w.detach().cpu().numpy())\n",
    "    logger['b1'].append(torch_linear_01.b.detach().cpu().numpy())\n",
    "    logger['w2'].append(torch_linear_02.w.detach().cpu().numpy())\n",
    "    logger['b2'].append(torch_linear_02.b.detach().cpu().numpy())\n",
    "    "
   ]
  },
  {
   "cell_type": "code",
   "execution_count": null,
   "id": "10b3f0b1",
   "metadata": {
    "id": "10b3f0b1",
    "outputId": "9796c4c3-4c7d-470d-d94d-ffabcf6826a9"
   },
   "outputs": [
    {
     "data": {
      "image/png": "[encoded data removed]",
      "text/plain": [
       "<Figure size 1080x864 with 5 Axes>"
      ]
     },
     "metadata": {
      "needs_background": "light"
     },
     "output_type": "display_data"
    }
   ],
   "source": [
    "fig, axs = plt.subplots(ncols=3, nrows=3, figsize = (15,12))\n",
    "\n",
    "gs = axs[0, 0].get_gridspec()\n",
    "for ax in axs[0, :]:\n",
    "    ax.remove()\n",
    "axbig = fig.add_subplot(gs[0, :])\n",
    "axbig.plot(logger['loss'])\n",
    "axbig.set_yscale('log')\n",
    "\n",
    "for n in range(3):\n",
    "    axs[1][n].plot(stack_w1[:,:,n], alpha = .7)\n",
    "    axs[1][n].plot(stack_b1[:,n], alpha = .7)\n",
    "    axs[1][n].legend(range(9))\n",
    "\n",
    "\n",
    "gs = axs[0, 0].get_gridspec()\n",
    "for ax in axs[2, :]:\n",
    "    ax.remove()\n",
    "axbig = fig.add_subplot(gs[2, :])\n",
    "axbig.plot(np.concatenate(logger['w2'],-1).transpose(), alpha = .7)\n",
    "axbig.plot(np.concatenate(logger['b2'],-1).transpose(), alpha = .7)\n",
    "axbig.legend(range(9))\n",
    "\n",
    "\n",
    "\n",
    "fig.tight_layout()\n",
    "\n",
    "plt.show()\n"
   ]
  },
  {
   "cell_type": "code",
   "execution_count": null,
   "id": "0f3ecb53",
   "metadata": {
    "id": "0f3ecb53"
   },
   "outputs": [],
   "source": [
    "\n",
    "def torch_linear_combination(x,y,l1,l2):\n",
    "    h1 = l1(x)\n",
    "    a1 = torch_relu(h1)\n",
    "    o = l2(a1)\n",
    "    \n",
    "    mse_loss = ((y - o)**2).mean()\n",
    "    \n",
    "    mse_loss.backward()\n",
    "    \n",
    "    with torch.no_grad():\n",
    "        for w in list(l1.parameters()) + list(l2.parameters()):\n",
    "            w -= learning_ratio * w.grad\n",
    "            \n",
    "    return mse_loss"
   ]
  },
  {
   "cell_type": "code",
   "execution_count": null,
   "id": "4579f899",
   "metadata": {
    "id": "4579f899",
    "outputId": "3ff0131a-cd0f-40f9-f90f-62de665bff3e"
   },
   "outputs": [
    {
     "data": {
      "text/plain": [
       "torch_linear()"
      ]
     },
     "execution_count": 86,
     "metadata": {},
     "output_type": "execute_result"
    }
   ],
   "source": [
    "torch_linear_01.eval()"
   ]
  },
  {
   "cell_type": "markdown",
   "id": "d1393bd6",
   "metadata": {
    "id": "d1393bd6"
   },
   "source": [
    "# 06. High level API for Tensorflow & Pytorch"
   ]
  },
  {
   "cell_type": "markdown",
   "id": "1069a3bf",
   "metadata": {
    "id": "1069a3bf"
   },
   "source": [
    "## 06-1. Using tensorflow API module"
   ]
  },
  {
   "cell_type": "code",
   "execution_count": null,
   "id": "fdccd222",
   "metadata": {
    "id": "fdccd222"
   },
   "outputs": [],
   "source": [
    "\n",
    "from tqdm import tqdm\n",
    "\n",
    "\n",
    "class tf_model_class(tf.keras.Model):\n",
    "    def __init__(\n",
    "        self, \n",
    "        dim_lists,\n",
    "        activ,\n",
    "        dropout,\n",
    "    ):\n",
    "        super().__init__()\n",
    "        self.input_lists = dim_lists[:-1]\n",
    "        self.output_lists = dim_lists[1:]\n",
    "        \n",
    "        self.linears = [tf_linear(i,o) for i,o in zip(self.input_lists, self.output_lists)]\n",
    "        \n",
    "        if dropout != 0:\n",
    "            self.dropout = True\n",
    "            self.dropout_layer = tf.keras.layers.Dropout(dropout)\n",
    "        else:\n",
    "            self.dropout = False\n",
    "            \n",
    "        self.activ = activ\n",
    "        \n",
    "    @tf.function\n",
    "    def call(self, x, training = True):\n",
    "        for l in self.linears[:-1]:\n",
    "            x = l(x)\n",
    "            x = self.activ(x)\n",
    "            \n",
    "            if self.dropout:\n",
    "                x = self.dropout_layer(x, training)\n",
    "        \n",
    "                    \n",
    "        return self.linears[-1](x)\n",
    "\n",
    "class tf_trainer:\n",
    "    def __init__(self, model, x, y, batch_size):\n",
    "        self.model = model\n",
    "        self.data = tf.data.Dataset.from_tensor_slices((x,y)).shuffle(batch_size * 10).batch(batch_size)\n",
    "        self.optimizer = tf.keras.optimizers.Adam()\n",
    "        self.loss_fn = tf.keras.losses.MeanSquaredError()\n",
    "        \n",
    "    def __training_batch_step__(self, batch):\n",
    "        x,y = batch\n",
    "        with tf.GradientTape() as t:\n",
    "            y_hat = self.model(x,training = True)\n",
    "            loss = self.loss_fn(y, y_hat)\n",
    "        grad = t.gradient(loss, self.model.trainable_variables)\n",
    "        self.optimizer.apply_gradients(zip(grad, self.model.trainable_variables))\n",
    "        return loss\n",
    "\n",
    "    def __training_epoch__(self, epoch_numb):\n",
    "        loss_lists = []\n",
    "        TQ = tqdm(self.data)\n",
    "        for n, batch in enumerate(TQ,1):\n",
    "            loss_lists.append(self.__training_batch_step__(batch))\n",
    "            TQ.set_description_str(f'Epoch : {epoch_numb}')\n",
    "            TQ.set_postfix_str(f'Loss : {sum(loss_lists) / n:.5}')\n",
    "        return sum(loss_lists) / n\n",
    "    \n",
    "    def fit(self, loop_numb):\n",
    "        history = dict(\n",
    "            loss = []\n",
    "        )\n",
    "        for n in range(loop_numb):\n",
    "            history['loss'].append(\n",
    "                self.__training_epoch__(n)\n",
    "            )\n",
    "        return history"
   ]
  },
  {
   "cell_type": "code",
   "execution_count": null,
   "id": "f10746d4",
   "metadata": {
    "id": "f10746d4"
   },
   "outputs": [],
   "source": [
    "tf_dicts = dict(\n",
    "    dim_lists = (X.shape[1], 30, 10, 1),\n",
    "    activ = tf.keras.activations.relu,\n",
    "    dropout = .3,\n",
    ")"
   ]
  },
  {
   "cell_type": "code",
   "execution_count": null,
   "id": "7c1d4a71",
   "metadata": {
    "id": "7c1d4a71"
   },
   "outputs": [],
   "source": [
    "manual_tf_model = tf_model_class(**tf_dicts)\n"
   ]
  },
  {
   "cell_type": "code",
   "execution_count": null,
   "id": "578940f6",
   "metadata": {
    "id": "578940f6"
   },
   "outputs": [],
   "source": [
    "trainer = tf_trainer(manual_tf_model, tf_X, tf_Y, 100)"
   ]
  },
  {
   "cell_type": "code",
   "execution_count": null,
   "id": "52d7c10f",
   "metadata": {
    "id": "52d7c10f",
    "outputId": "dbe69d0b-1c20-4f04-dc6c-6b45e0e2bf7b",
    "scrolled": false
   },
   "outputs": [
    {
     "name": "stderr",
     "output_type": "stream",
     "text": [
      "Epoch : 0: 100%|██████████| 207/207 [00:01<00:00, 121.42it/s, Loss : 2.8295]\n",
      "Epoch : 1: 100%|██████████| 207/207 [00:01<00:00, 141.72it/s, Loss : 1.7847]\n",
      "Epoch : 2: 100%|██████████| 207/207 [00:01<00:00, 142.07it/s, Loss : 1.6239]\n",
      "Epoch : 3: 100%|██████████| 207/207 [00:01<00:00, 137.02it/s, Loss : 1.5568]\n",
      "Epoch : 4: 100%|██████████| 207/207 [00:01<00:00, 139.20it/s, Loss : 1.4762]\n",
      "Epoch : 5: 100%|██████████| 207/207 [00:01<00:00, 129.40it/s, Loss : 1.3865]\n",
      "Epoch : 6: 100%|██████████| 207/207 [00:01<00:00, 124.14it/s, Loss : 1.3063]\n",
      "Epoch : 7: 100%|██████████| 207/207 [00:01<00:00, 133.77it/s, Loss : 1.2424]\n",
      "Epoch : 8: 100%|██████████| 207/207 [00:01<00:00, 129.48it/s, Loss : 1.1228]\n",
      "Epoch : 9: 100%|██████████| 207/207 [00:01<00:00, 129.11it/s, Loss : 1.012]  \n",
      "Epoch : 10: 100%|██████████| 207/207 [00:01<00:00, 136.53it/s, Loss : 0.88458]\n",
      "Epoch : 11: 100%|██████████| 207/207 [00:01<00:00, 133.19it/s, Loss : 0.8083] \n",
      "Epoch : 12: 100%|██████████| 207/207 [00:01<00:00, 139.38it/s, Loss : 0.79782]\n",
      "Epoch : 13: 100%|██████████| 207/207 [00:01<00:00, 135.85it/s, Loss : 0.76142]\n",
      "Epoch : 14: 100%|██████████| 207/207 [00:01<00:00, 135.97it/s, Loss : 0.77965]\n",
      "Epoch : 15: 100%|██████████| 207/207 [00:01<00:00, 137.63it/s, Loss : 0.74602]\n",
      "Epoch : 16: 100%|██████████| 207/207 [00:01<00:00, 136.14it/s, Loss : 0.72799]\n",
      "Epoch : 17: 100%|██████████| 207/207 [00:01<00:00, 143.53it/s, Loss : 0.72361]\n",
      "Epoch : 18: 100%|██████████| 207/207 [00:01<00:00, 133.85it/s, Loss : 0.72359]\n",
      "Epoch : 19: 100%|██████████| 207/207 [00:01<00:00, 134.51it/s, Loss : 0.72871]\n"
     ]
    },
    {
     "data": {
      "text/plain": [
       "[<matplotlib.lines.Line2D at 0x7f48182a98b0>]"
      ]
     },
     "execution_count": 45,
     "metadata": {},
     "output_type": "execute_result"
    },
    {
     "data": {
      "image/png": "[encoded data removed]",
      "text/plain": [
       "<Figure size 432x288 with 1 Axes>"
      ]
     },
     "metadata": {
      "needs_background": "light"
     },
     "output_type": "display_data"
    }
   ],
   "source": [
    "plt.plot(trainer.fit(20)['loss'])"
   ]
  },
  {
   "cell_type": "code",
   "execution_count": null,
   "id": "e8d52472",
   "metadata": {
    "id": "e8d52472",
    "outputId": "19e4a98f-eb31-4dad-c7d3-7d6d7d122d63"
   },
   "outputs": [
    {
     "name": "stdout",
     "output_type": "stream",
     "text": [
      "Model: \"tf_model_class\"\n",
      "_________________________________________________________________\n",
      " Layer (type)                Output Shape              Param #   \n",
      "=================================================================\n",
      " tf_linear_2 (tf_linear)     multiple                  0 (unused)\n",
      "                                                                 \n",
      " tf_linear_3 (tf_linear)     multiple                  0 (unused)\n",
      "                                                                 \n",
      " tf_linear_4 (tf_linear)     multiple                  0 (unused)\n",
      "                                                                 \n",
      " dropout (Dropout)           multiple                  0         \n",
      "                                                                 \n",
      "=================================================================\n",
      "Total params: 591\n",
      "Trainable params: 591\n",
      "Non-trainable params: 0\n",
      "_________________________________________________________________\n"
     ]
    }
   ],
   "source": [
    "tf_model = tf_model_class(**tf_dicts)\n",
    "\n",
    "tf_model.build((2, X.shape[1]))\n",
    "tf_model.summary()"
   ]
  },
  {
   "cell_type": "code",
   "execution_count": null,
   "id": "1059666b",
   "metadata": {
    "id": "1059666b"
   },
   "outputs": [],
   "source": [
    "tf_model.compile(\n",
    "    tf.keras.optimizers.Adam(),\n",
    "    tf.keras.losses.MeanSquaredError(),\n",
    ")"
   ]
  },
  {
   "cell_type": "code",
   "execution_count": null,
   "id": "1f930356",
   "metadata": {
    "id": "1f930356"
   },
   "outputs": [],
   "source": [
    "history = tf_model.fit(tf_X, tf_Y, 100, epochs = 20, verbose = 0)"
   ]
  },
  {
   "cell_type": "code",
   "execution_count": null,
   "id": "68f8e523",
   "metadata": {
    "id": "68f8e523",
    "outputId": "22b1df94-af4a-489d-efc9-a9b5223860f6"
   },
   "outputs": [
    {
     "data": {
      "text/plain": [
       "[<matplotlib.lines.Line2D at 0x7f4830122eb0>]"
      ]
     },
     "execution_count": 41,
     "metadata": {},
     "output_type": "execute_result"
    },
    {
     "data": {
      "image/png": "[encoded data removed]",
      "text/plain": [
       "<Figure size 432x288 with 1 Axes>"
      ]
     },
     "metadata": {
      "needs_background": "light"
     },
     "output_type": "display_data"
    }
   ],
   "source": [
    "plt.plot(history.history['loss'])"
   ]
  },
  {
   "cell_type": "markdown",
   "id": "86595c1b",
   "metadata": {
    "id": "86595c1b"
   },
   "source": [
    "## 06-1. Using torch API module"
   ]
  },
  {
   "cell_type": "code",
   "execution_count": null,
   "id": "c7a03a2b",
   "metadata": {
    "id": "c7a03a2b"
   },
   "outputs": [],
   "source": [
    "\n",
    "from tqdm import tqdm\n",
    "\n",
    "\n",
    "class torch_model_class(torch.nn.Module):\n",
    "    def __init__(\n",
    "        self, \n",
    "        dim_lists,\n",
    "        activ,\n",
    "        dropout,\n",
    "    ):\n",
    "        super().__init__()\n",
    "        self.input_lists = dim_lists[:-1]\n",
    "        self.output_lists = dim_lists[1:]\n",
    "        \n",
    "        self.linears = torch.nn.ModuleList(\n",
    "            [\n",
    "                torch.nn.Linear(i,o) for i,o in zip(self.input_lists, self.output_lists)\n",
    "            ]\n",
    "        )\n",
    "        \n",
    "        if dropout != 0:\n",
    "            self.dropout = True\n",
    "            self.dropout_layer = torch.nn.Dropout(dropout)\n",
    "        else:\n",
    "            self.dropout = False\n",
    "            \n",
    "        self.activ = activ\n",
    "        \n",
    "    \n",
    "    def forward(self, x):\n",
    "        for l in self.linears[:-1]:\n",
    "            x = l(x)\n",
    "            x = self.activ(x)\n",
    "            \n",
    "            if self.dropout:\n",
    "                x = self.dropout_layer(x)\n",
    "        \n",
    "                    \n",
    "        return self.linears[-1](x)\n",
    "\n",
    "    \n",
    "    \n",
    "class torch_trainer:\n",
    "    def __init__(self, model, x, y, batch_size):\n",
    "        self.model = model\n",
    "        self.data = tf.data.Dataset.from_tensor_slices((x,y)).shuffle(batch_size * 10).batch(batch_size)\n",
    "        self.optimizer = tf.keras.optimizers.Adam()\n",
    "        self.loss_fn = tf.keras.losses.MeanSquaredError()\n",
    "        \n",
    "    def __training_batch_step__(self, batch):\n",
    "        x,y = batch\n",
    "        with tf.GradientTape() as t:\n",
    "            y_hat = self.model(x,training = True)\n",
    "            loss = self.loss_fn(y, y_hat)\n",
    "        grad = t.gradient(loss, self.model.trainable_variables)\n",
    "        self.optimizer.apply_gradients(zip(grad, self.model.trainable_variables))\n",
    "        return loss\n",
    "\n",
    "    def __training_epoch__(self, epoch_numb):\n",
    "        loss_lists = []\n",
    "        TQ = tqdm(self.data)\n",
    "        for n, batch in enumerate(TQ,1):\n",
    "            loss_lists.append(self.__training_batch_step__(batch))\n",
    "            TQ.set_description_str(f'Epoch : {epoch_numb}')\n",
    "            TQ.set_postfix_str(f'Loss : {sum(loss_lists) / n:.5}')\n",
    "        return sum(loss_lists) / n\n",
    "    \n",
    "    def fit(self, loop_numb):\n",
    "        history = dict(\n",
    "            loss = []\n",
    "        )\n",
    "        for n in range(loop_numb):\n",
    "            history['loss'].append(\n",
    "                self.__training_epoch__(n)\n",
    "            )\n",
    "        return history"
   ]
  },
  {
   "cell_type": "code",
   "execution_count": null,
   "id": "fda482ad",
   "metadata": {
    "id": "fda482ad",
    "outputId": "c7bca039-a88f-4a2a-d761-4e4522e2d9b9"
   },
   "outputs": [
    {
     "data": {
      "text/plain": [
       "<tf.Tensor: shape=(20640, 1), dtype=float32, numpy=\n",
       "array([[3.6517997],\n",
       "       [3.2459626],\n",
       "       [3.5087564],\n",
       "       ...,\n",
       "       [1.3673903],\n",
       "       [1.3673903],\n",
       "       [1.3673903]], dtype=float32)>"
      ]
     },
     "execution_count": 79,
     "metadata": {},
     "output_type": "execute_result"
    }
   ],
   "source": [
    "manual_tf_model(tf_X, False)"
   ]
  },
  {
   "cell_type": "code",
   "execution_count": null,
   "id": "266a18b2",
   "metadata": {
    "id": "266a18b2"
   },
   "outputs": [],
   "source": [
    "torch_dicts = dict(\n",
    "    dim_lists = (X.shape[1], 30, 10, 1),\n",
    "    activ = torch.nn.ReLU(),\n",
    "    dropout = .3,\n",
    ")"
   ]
  },
  {
   "cell_type": "code",
   "execution_count": null,
   "id": "b2db3405",
   "metadata": {
    "id": "b2db3405"
   },
   "outputs": [],
   "source": [
    "manual_torch_model = torch_model_class(**torch_dicts)"
   ]
  },
  {
   "cell_type": "code",
   "execution_count": null,
   "id": "53bd70c0",
   "metadata": {
    "id": "53bd70c0",
    "outputId": "9e2b6e65-5298-4f94-c63f-c813c8004e0e"
   },
   "outputs": [
    {
     "data": {
      "text/plain": [
       "[Parameter containing:\n",
       " tensor([[ 0.2514, -0.3185, -0.3016, -0.1177, -0.2238,  0.0614,  0.2289,  0.2998],\n",
       "         [ 0.3480, -0.0552, -0.0918, -0.1623, -0.3294,  0.3516,  0.2894, -0.0963],\n",
       "         [-0.1326,  0.3253,  0.0511,  0.0099,  0.2506, -0.1117, -0.0764, -0.1928],\n",
       "         [ 0.2907, -0.2122,  0.2278, -0.2914, -0.0153, -0.1831,  0.0810, -0.0072],\n",
       "         [-0.2016, -0.2333,  0.1902, -0.0982, -0.1778,  0.1890,  0.0293, -0.0772],\n",
       "         [ 0.3424,  0.0298, -0.2402, -0.2035,  0.1459,  0.0976,  0.1630,  0.3179],\n",
       "         [-0.2360,  0.1671,  0.2836, -0.1864,  0.0146, -0.0922, -0.1006, -0.2895],\n",
       "         [-0.2796, -0.2812,  0.0782, -0.2535,  0.0253,  0.2476,  0.3435, -0.2490],\n",
       "         [-0.1371, -0.3236, -0.1015, -0.2849, -0.0029, -0.2447, -0.1645, -0.3482],\n",
       "         [-0.2095,  0.2838, -0.2530, -0.2900, -0.2999, -0.1368, -0.0843, -0.1067],\n",
       "         [-0.0764,  0.0561, -0.0741, -0.2075,  0.0132, -0.2991,  0.1018,  0.2959],\n",
       "         [-0.2389,  0.1858,  0.2354,  0.1356, -0.1798, -0.2039, -0.2371,  0.2162],\n",
       "         [-0.2416, -0.1256,  0.3358,  0.3066,  0.2962,  0.2426, -0.2356,  0.1032],\n",
       "         [-0.1708,  0.2861,  0.1155, -0.1838,  0.0954,  0.2464, -0.0760,  0.1801],\n",
       "         [ 0.0569, -0.2086,  0.2788,  0.1841,  0.3060, -0.1234,  0.3096, -0.0827],\n",
       "         [ 0.2227, -0.1001,  0.2013,  0.2176,  0.2656,  0.1878,  0.0864, -0.0695],\n",
       "         [ 0.2749,  0.2553, -0.2745,  0.2552, -0.0915,  0.1611, -0.2729,  0.0995],\n",
       "         [-0.0272, -0.1277, -0.1623, -0.1556, -0.3361,  0.0247, -0.2269, -0.1800],\n",
       "         [-0.2462, -0.0476, -0.2804, -0.0286, -0.3257, -0.1346,  0.0461, -0.1162],\n",
       "         [ 0.1372, -0.1307, -0.2150, -0.3368,  0.1139,  0.2920,  0.2943,  0.0647],\n",
       "         [-0.2604, -0.0021, -0.1225,  0.1359, -0.2869, -0.0654, -0.3007,  0.3299],\n",
       "         [ 0.1852, -0.3478, -0.3185, -0.2959,  0.1332,  0.1608,  0.1027, -0.0322],\n",
       "         [ 0.2251,  0.0078,  0.2313,  0.0418, -0.1591, -0.1485,  0.1714, -0.0566],\n",
       "         [-0.1424, -0.1037,  0.0980, -0.2152, -0.2686,  0.3489,  0.1139,  0.1663],\n",
       "         [-0.2883, -0.1234, -0.1918,  0.0586,  0.0181, -0.0409,  0.1827,  0.3345],\n",
       "         [-0.1497,  0.2856, -0.2706, -0.1032, -0.3041, -0.1981,  0.0828,  0.2760],\n",
       "         [-0.1776, -0.0269, -0.1224,  0.1685, -0.1465, -0.0246, -0.1096,  0.0279],\n",
       "         [-0.3434,  0.0450, -0.3318,  0.3464,  0.2911, -0.2113, -0.1963,  0.2584],\n",
       "         [-0.0430, -0.1605, -0.2220,  0.3354,  0.0998, -0.0897, -0.3136,  0.0737],\n",
       "         [ 0.1472,  0.1353, -0.2356,  0.3301, -0.2001, -0.3118,  0.1667,  0.1753]],\n",
       "        requires_grad=True),\n",
       " Parameter containing:\n",
       " tensor([-0.1034, -0.1643, -0.1503, -0.1397,  0.0454,  0.2432,  0.1268, -0.1982,\n",
       "          0.2591,  0.1305,  0.0833, -0.2159,  0.2680, -0.1363,  0.3303, -0.0158,\n",
       "         -0.0571, -0.3418, -0.1228,  0.2324,  0.2591,  0.0030,  0.1370, -0.2991,\n",
       "          0.0279,  0.3225,  0.0306, -0.3185, -0.0878,  0.0240],\n",
       "        requires_grad=True),\n",
       " Parameter containing:\n",
       " tensor([[ 0.0244,  0.1711,  0.0967, -0.0645, -0.0816, -0.0864, -0.1285,  0.1022,\n",
       "          -0.1653,  0.0226, -0.0365,  0.0037,  0.0272, -0.1257,  0.1504, -0.1702,\n",
       "          -0.0569, -0.0252, -0.1512,  0.0292,  0.0854,  0.1817, -0.1574,  0.0704,\n",
       "          -0.0130, -0.0515, -0.1122,  0.1256,  0.1110,  0.0923],\n",
       "         [ 0.0423,  0.0181, -0.0783, -0.0327, -0.0305, -0.1315,  0.0088, -0.0710,\n",
       "           0.0619, -0.1324, -0.1116,  0.1735,  0.1794, -0.1769,  0.0703, -0.1626,\n",
       "          -0.0602, -0.1703,  0.1553, -0.1361,  0.1672,  0.0977,  0.0830,  0.0518,\n",
       "          -0.0185,  0.1360,  0.1065, -0.0540,  0.0386, -0.0349],\n",
       "         [-0.0351, -0.0085,  0.1000, -0.1288, -0.1758, -0.1727, -0.0234,  0.1614,\n",
       "          -0.1306, -0.0455,  0.0592,  0.1235,  0.1203, -0.0331,  0.1260,  0.1601,\n",
       "           0.1424,  0.1465,  0.0080,  0.1605, -0.0784,  0.1549,  0.0015, -0.0939,\n",
       "          -0.1536, -0.1715,  0.0102,  0.0957,  0.1683, -0.1319],\n",
       "         [-0.0538, -0.0233,  0.1609,  0.1420, -0.0777,  0.0214,  0.0819,  0.0223,\n",
       "          -0.0084, -0.0402, -0.1299,  0.1781,  0.0403,  0.0973, -0.1593, -0.0229,\n",
       "           0.1089, -0.1179,  0.1517,  0.0829,  0.1555, -0.1153, -0.0993, -0.1263,\n",
       "          -0.1391,  0.0828, -0.1702, -0.0063,  0.1300, -0.1548],\n",
       "         [ 0.1454,  0.1391,  0.0327,  0.0552,  0.0177, -0.1180,  0.1666,  0.1242,\n",
       "          -0.0617, -0.0669, -0.0793, -0.1512,  0.1045,  0.0285, -0.0172, -0.1565,\n",
       "           0.1538, -0.0431, -0.0562,  0.0206,  0.1319, -0.1811,  0.0343, -0.1378,\n",
       "           0.0605, -0.1251, -0.1565, -0.0758,  0.0826,  0.1653],\n",
       "         [ 0.1430,  0.1512,  0.0639, -0.1177,  0.0559,  0.1551,  0.1305,  0.1787,\n",
       "           0.1075,  0.0661, -0.0842,  0.0753, -0.0243, -0.1508,  0.0502, -0.0315,\n",
       "          -0.0295,  0.0529,  0.0141, -0.0863,  0.0858, -0.1640,  0.1524, -0.0375,\n",
       "          -0.0672, -0.1354, -0.0467,  0.0899, -0.1494,  0.1231],\n",
       "         [-0.0431,  0.1616, -0.1572, -0.0592, -0.1697, -0.1460, -0.0246,  0.1181,\n",
       "           0.1203,  0.0852, -0.0553,  0.1776,  0.1196,  0.0974,  0.0146,  0.1341,\n",
       "           0.0429, -0.0526,  0.0175,  0.0605,  0.0423, -0.0823, -0.0838,  0.1751,\n",
       "          -0.0174,  0.1250,  0.0874, -0.1645,  0.0960,  0.0089],\n",
       "         [-0.1751, -0.0497,  0.0620,  0.1520,  0.1583, -0.1270,  0.0085, -0.1021,\n",
       "           0.0453, -0.0074, -0.0774,  0.0537, -0.0652, -0.1586,  0.0100,  0.0470,\n",
       "           0.1614, -0.0925,  0.0315,  0.0762,  0.1410, -0.1621,  0.0022,  0.0231,\n",
       "           0.0825, -0.1439,  0.1383, -0.0216,  0.1005, -0.0722],\n",
       "         [ 0.0091,  0.0586, -0.0475,  0.0096, -0.1436, -0.1536,  0.1292,  0.1039,\n",
       "           0.1685, -0.1229,  0.0998, -0.0743,  0.0466,  0.0478,  0.1768, -0.0214,\n",
       "          -0.0544,  0.0959,  0.0226, -0.1133, -0.0396,  0.1540,  0.0419, -0.0294,\n",
       "          -0.0666,  0.0058, -0.1098, -0.0254, -0.0312,  0.0581],\n",
       "         [ 0.1451,  0.1645, -0.1667,  0.0733,  0.0664,  0.0051, -0.0203, -0.0513,\n",
       "           0.1357,  0.0902, -0.0073, -0.0764, -0.0692, -0.0395, -0.0669, -0.1240,\n",
       "          -0.1113,  0.0247, -0.1719, -0.1748, -0.0481,  0.1059, -0.0302, -0.0477,\n",
       "           0.0444, -0.1263,  0.1401, -0.1714,  0.1801, -0.0608]],\n",
       "        requires_grad=True),\n",
       " Parameter containing:\n",
       " tensor([-0.0879,  0.1081,  0.1743, -0.1801, -0.0051, -0.1547,  0.1055,  0.1353,\n",
       "         -0.0755, -0.1457], requires_grad=True),\n",
       " Parameter containing:\n",
       " tensor([[ 0.0460, -0.1706,  0.2806, -0.2081, -0.2582,  0.0166,  0.0795,  0.3042,\n",
       "          -0.2415,  0.0473]], requires_grad=True),\n",
       " Parameter containing:\n",
       " tensor([0.2232], requires_grad=True)]"
      ]
     },
     "execution_count": 95,
     "metadata": {},
     "output_type": "execute_result"
    }
   ],
   "source": [
    "list(manual_torch_model.parameters())"
   ]
  }
 ],
 "metadata": {
  "colab": {
   "name": "220804 Practice 02. The advance of the tensorflow and pytorch .ipynb",
   "provenance": []
  },
  "kernelspec": {
   "display_name": "Python 3 (ipykernel)",
   "language": "python",
   "name": "python3"
  },
  "language_info": {
   "codemirror_mode": {
    "name": "ipython",
    "version": 3
   },
   "file_extension": ".py",
   "mimetype": "text/x-python",
   "name": "python",
   "nbconvert_exporter": "python",
   "pygments_lexer": "ipython3",
   "version": "3.7.5"
  }
 },
 "nbformat": 4,
 "nbformat_minor": 5
}
